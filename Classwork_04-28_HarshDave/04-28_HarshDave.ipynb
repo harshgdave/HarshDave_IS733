{
 "cells": [
  {
   "cell_type": "code",
   "execution_count": 5,
   "id": "828da686-9278-438b-9a81-062374e41776",
   "metadata": {},
   "outputs": [
    {
     "name": "stdout",
     "output_type": "stream",
     "text": [
      "📊 5-Fold Cross-Validation Accuracy:\n",
      "Logistic Regression: 0.6846\n",
      "SVM: 0.8385\n",
      "Naive Bayes: 0.7308\n",
      "Random Forest: 0.6923\n",
      "\n",
      "🔁 Leave-One-Plot-Out Accuracy (Logistic Regression): 0.6796\n"
     ]
    }
   ],
   "source": [
    "import pandas as pd\n",
    "from sklearn.model_selection import StratifiedKFold\n",
    "from sklearn.feature_extraction.text import TfidfVectorizer\n",
    "from sklearn.pipeline import Pipeline\n",
    "from sklearn.linear_model import LogisticRegression\n",
    "from sklearn.svm import SVC\n",
    "from sklearn.naive_bayes import MultinomialNB\n",
    "from sklearn.ensemble import RandomForestClassifier\n",
    "from sklearn.preprocessing import LabelEncoder\n",
    "from sklearn.metrics import accuracy_score\n",
    "import string\n",
    "\n",
    "# Load data\n",
    "file_path = '/Users/harshdave/Downloads/data_stories_one_shot.csv'\n",
    "df = pd.read_csv(file_path)\n",
    "\n",
    "# Step 1: Basic Cleaning (Lowercase + Punctuation Removal)\n",
    "df['processed'] = df['Sentence'].apply(lambda x: x.lower().translate(str.maketrans('', '', string.punctuation)))\n",
    "\n",
    "# Step 2: Label Setup\n",
    "df['label'] = df['Stage'].apply(lambda x: 'Show' if x == 1 else 'Tell')\n",
    "df['label_encoded'] = LabelEncoder().fit_transform(df['label'])\n",
    "\n",
    "# Step 3: Define Models\n",
    "models = {\n",
    "    \"Logistic Regression\": LogisticRegression(max_iter=1000),\n",
    "    \"SVM\": SVC(kernel='linear'),\n",
    "    \"Naive Bayes\": MultinomialNB(),\n",
    "    \"Random Forest\": RandomForestClassifier()\n",
    "}\n",
    "\n",
    "# Step 4: TF-IDF Vectorization + 5-Fold Cross-Validation (Manual Loop)\n",
    "results_cv = {}\n",
    "skf = StratifiedKFold(n_splits=5)\n",
    "\n",
    "for name, model in models.items():\n",
    "    pipeline = Pipeline([('tfidf', TfidfVectorizer()), ('clf', model)])\n",
    "    accuracies = []\n",
    "    for train_index, test_index in skf.split(df['processed'], df['label_encoded']):\n",
    "        X_train, X_test = df['processed'].iloc[train_index], df['processed'].iloc[test_index]\n",
    "        y_train, y_test = df['label_encoded'].iloc[train_index], df['label_encoded'].iloc[test_index]\n",
    "        \n",
    "        pipeline.fit(X_train, y_train)\n",
    "        y_pred = pipeline.predict(X_test)\n",
    "        accuracies.append(accuracy_score(y_test, y_pred))\n",
    "    \n",
    "    results_cv[name] = sum(accuracies) / len(accuracies)\n",
    "\n",
    "# Step 5: Leave-One-Plot-Out Cross-Validation (Logistic Regression)\n",
    "scores_lopo = []\n",
    "unique_plots = df['Plot_Name'].unique()\n",
    "\n",
    "for plot in unique_plots:\n",
    "    # Split data based on current plot being used for testing\n",
    "    train_data = df[df['Plot_Name'] != plot]\n",
    "    test_data = df[df['Plot_Name'] == plot]\n",
    "    \n",
    "    X_train, X_test = train_data['processed'], test_data['processed']\n",
    "    y_train, y_test = train_data['label_encoded'], test_data['label_encoded']\n",
    "    \n",
    "    pipeline_lr = Pipeline([('tfidf', TfidfVectorizer()), ('clf', LogisticRegression(max_iter=1000))])\n",
    "    pipeline_lr.fit(X_train, y_train)\n",
    "    y_pred = pipeline_lr.predict(X_test)\n",
    "    \n",
    "    scores_lopo.append(accuracy_score(y_test, y_pred))\n",
    "\n",
    "# Step 6: Display Results\n",
    "print(\"📊 5-Fold Cross-Validation Accuracy:\")\n",
    "for model_name, acc in results_cv.items():\n",
    "    print(f\"{model_name}: {acc:.4f}\")\n",
    "\n",
    "print(f\"\\n🔁 Leave-One-Plot-Out Accuracy (Logistic Regression): {sum(scores_lopo) / len(scores_lopo):.4f}\")\n"
   ]
  },
  {
   "cell_type": "code",
   "execution_count": null,
   "id": "fd09d331-416a-407a-a7cb-73d3d5b2690c",
   "metadata": {},
   "outputs": [],
   "source": []
  }
 ],
 "metadata": {
  "kernelspec": {
   "display_name": "Python [conda env:base] *",
   "language": "python",
   "name": "conda-base-py"
  },
  "language_info": {
   "codemirror_mode": {
    "name": "ipython",
    "version": 3
   },
   "file_extension": ".py",
   "mimetype": "text/x-python",
   "name": "python",
   "nbconvert_exporter": "python",
   "pygments_lexer": "ipython3",
   "version": "3.12.7"
  }
 },
 "nbformat": 4,
 "nbformat_minor": 5
}
